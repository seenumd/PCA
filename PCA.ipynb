{
 "cells": [
  {
   "cell_type": "markdown",
   "metadata": {},
   "source": [
    "# Principal Component Analysis"
   ]
  },
  {
   "cell_type": "markdown",
   "metadata": {},
   "source": [
    "# Agenda\n",
    "\n",
    "1. PCA basics\n",
    "    - Eigenvalues significance\n",
    "    - Eigenvectors significance\n",
    "2. Data set\n",
    "    - Download data\n",
    "    - Define feature columns\n",
    "    - Normalize data\n",
    "3. Correlation between different features\n",
    "4. Linear Regesion \n",
    "5. Linear Regesion with PCA\n",
    "    - Elbow curve\n",
    "    - Correlation Matrix\n",
    "6. Random Forest\n",
    "7. Random Forest with PCA\n",
    "8. Conclusion\n"
   ]
  },
  {
   "cell_type": "markdown",
   "metadata": {},
   "source": [
    "# PCA\n",
    "Principal component analysis is a statistical procedure that uses an **orthogonal transformation** to convert a set of observations of possibly **correlated variables** into a set of values of **linearly uncorrelated variables** called principal components\n",
    "- With PCA we can reduce the dimentions with out losing much information\n",
    "- PCA also helps to remove the multicollinearity between the variables\n",
    "\n",
    "**Reducing** the **dimension** of the feature space is called **dimensionality reduction.** There are many ways to achieve dimensionality reduction, but most of these techniques fall into one of two classes:\n",
    "- Feature Elimination\n",
    "- Feature Extraction\n",
    "\n",
    "Our goal is to identify the features that capture the most variance in the input dataset.\n",
    "**Eigenvalue** for a priciple component measures the variance in all the variables which is accounted for by that principal component.\n",
    "**Eigenvector** indicates the direction of a vector. Eigen vectore with largest eigenvalue is the direction alog which the dataset has maximum variance.\n",
    "Dimensionality reduction can be achieved by Linear transformations of input data.\n",
    "\n",
    "Eigen vector Equation:  **Av = $\\gamma$.v **\n",
    "\n",
    "Where A = Input normalized matrix\n",
    "      v = Eigen vectors\n",
    "      $\\gamma$ = Eigenvalues"
   ]
  },
  {
   "cell_type": "markdown",
   "metadata": {},
   "source": [
    "**PCA** brings together:\n",
    "\n",
    "1. A measure of how each variable is associated with one another. (Covariance matrix.)\n",
    "2. The directions in which our data are dispersed. (Eigenvectors.)\n",
    "3. The relative importance of these different directions. (Eigenvalues.)\n",
    "\n",
    "PCA combines our predictors and allows us to drop the eigenvectors that are relatively unimportant."
   ]
  },
  {
   "cell_type": "code",
   "execution_count": 1,
   "metadata": {},
   "outputs": [
    {
     "name": "stderr",
     "output_type": "stream",
     "text": [
      "C:\\Users\\s.mudalapuram\\AppData\\Local\\Continuum\\Anaconda3\\lib\\site-packages\\sklearn\\cross_validation.py:41: DeprecationWarning: This module was deprecated in version 0.18 in favor of the model_selection module into which all the refactored classes and functions are moved. Also note that the interface of the new CV iterators are different from that of this module. This module will be removed in 0.20.\n",
      "  \"This module will be removed in 0.20.\", DeprecationWarning)\n"
     ]
    }
   ],
   "source": [
    "import numpy as np \n",
    "import pandas as pd\n",
    "import matplotlib.pyplot as plt\n",
    "from sklearn.ensemble import RandomForestClassifier\n",
    "from sklearn.cross_validation import train_test_split\n",
    "plt.style.use('fivethirtyeight')\n",
    "import seaborn as sns\n",
    "import time\n",
    "import random\n",
    "from sklearn import metrics\n",
    "%matplotlib inline"
   ]
  },
  {
   "cell_type": "markdown",
   "metadata": {},
   "source": [
    "### Dataset information\n",
    "[**SPECTF**](https://archive.ics.uci.edu/ml/machine-learning-databases/spect/) dataset from UCI machine learning repository\n",
    "\n",
    "   The dataset describes diagnosing of cardiac Single Proton Emission Computed Tomography (SPECT) images.\n",
    "   Each of the patients is classified into two categories: normal and abnormal.\n",
    "   The database of 267 SPECT image sets (patients) was processed to extract features that summarize the original SPECT images.\n",
    "   As a result, 44 continuous feature pattern was created for each patient."
   ]
  },
  {
   "cell_type": "code",
   "execution_count": 3,
   "metadata": {},
   "outputs": [],
   "source": [
    "url = 'https://archive.ics.uci.edu/ml/machine-learning-databases/spect/SPECTF.train'\n",
    "col_names = ['target', 'F1R', 'F1S', 'F2R', 'F2S', 'F3R', 'F3S', 'F4R', 'F4S', 'F5R','F5S','F6R','F6S','F7R','F7S','F8R','F8S','F9R','F9S','F10R',\n",
    "    'F10S',  'F11R','F11S','F12R','F12S','F13R','F13S','F14R','F14S','F15R','F15S','F16R','F16S','F17R','F17S','F18R','F18S','F19R','F19S',   'F20R',\n",
    "    'F20S','F21R','F21S','F22R','F22S']\n",
    "spectf_d= pd.read_table(url,sep=',',names=col_names)"
   ]
  },
  {
   "cell_type": "code",
   "execution_count": 4,
   "metadata": {},
   "outputs": [
    {
     "data": {
      "text/html": [
       "<div>\n",
       "<style scoped>\n",
       "    .dataframe tbody tr th:only-of-type {\n",
       "        vertical-align: middle;\n",
       "    }\n",
       "\n",
       "    .dataframe tbody tr th {\n",
       "        vertical-align: top;\n",
       "    }\n",
       "\n",
       "    .dataframe thead th {\n",
       "        text-align: right;\n",
       "    }\n",
       "</style>\n",
       "<table border=\"1\" class=\"dataframe\">\n",
       "  <thead>\n",
       "    <tr style=\"text-align: right;\">\n",
       "      <th></th>\n",
       "      <th>target</th>\n",
       "      <th>F1R</th>\n",
       "      <th>F1S</th>\n",
       "      <th>F2R</th>\n",
       "      <th>F2S</th>\n",
       "      <th>F3R</th>\n",
       "      <th>F3S</th>\n",
       "      <th>F4R</th>\n",
       "      <th>F4S</th>\n",
       "      <th>F5R</th>\n",
       "      <th>...</th>\n",
       "      <th>F18R</th>\n",
       "      <th>F18S</th>\n",
       "      <th>F19R</th>\n",
       "      <th>F19S</th>\n",
       "      <th>F20R</th>\n",
       "      <th>F20S</th>\n",
       "      <th>F21R</th>\n",
       "      <th>F21S</th>\n",
       "      <th>F22R</th>\n",
       "      <th>F22S</th>\n",
       "    </tr>\n",
       "  </thead>\n",
       "  <tbody>\n",
       "    <tr>\n",
       "      <th>0</th>\n",
       "      <td>1</td>\n",
       "      <td>59</td>\n",
       "      <td>52</td>\n",
       "      <td>70</td>\n",
       "      <td>67</td>\n",
       "      <td>73</td>\n",
       "      <td>66</td>\n",
       "      <td>72</td>\n",
       "      <td>61</td>\n",
       "      <td>58</td>\n",
       "      <td>...</td>\n",
       "      <td>66</td>\n",
       "      <td>56</td>\n",
       "      <td>62</td>\n",
       "      <td>56</td>\n",
       "      <td>72</td>\n",
       "      <td>62</td>\n",
       "      <td>74</td>\n",
       "      <td>74</td>\n",
       "      <td>64</td>\n",
       "      <td>67</td>\n",
       "    </tr>\n",
       "    <tr>\n",
       "      <th>1</th>\n",
       "      <td>1</td>\n",
       "      <td>72</td>\n",
       "      <td>62</td>\n",
       "      <td>69</td>\n",
       "      <td>67</td>\n",
       "      <td>78</td>\n",
       "      <td>82</td>\n",
       "      <td>74</td>\n",
       "      <td>65</td>\n",
       "      <td>69</td>\n",
       "      <td>...</td>\n",
       "      <td>65</td>\n",
       "      <td>71</td>\n",
       "      <td>63</td>\n",
       "      <td>60</td>\n",
       "      <td>69</td>\n",
       "      <td>73</td>\n",
       "      <td>67</td>\n",
       "      <td>71</td>\n",
       "      <td>56</td>\n",
       "      <td>58</td>\n",
       "    </tr>\n",
       "    <tr>\n",
       "      <th>2</th>\n",
       "      <td>1</td>\n",
       "      <td>71</td>\n",
       "      <td>62</td>\n",
       "      <td>70</td>\n",
       "      <td>64</td>\n",
       "      <td>67</td>\n",
       "      <td>64</td>\n",
       "      <td>79</td>\n",
       "      <td>65</td>\n",
       "      <td>70</td>\n",
       "      <td>...</td>\n",
       "      <td>73</td>\n",
       "      <td>70</td>\n",
       "      <td>66</td>\n",
       "      <td>65</td>\n",
       "      <td>64</td>\n",
       "      <td>55</td>\n",
       "      <td>61</td>\n",
       "      <td>41</td>\n",
       "      <td>51</td>\n",
       "      <td>46</td>\n",
       "    </tr>\n",
       "    <tr>\n",
       "      <th>3</th>\n",
       "      <td>1</td>\n",
       "      <td>69</td>\n",
       "      <td>71</td>\n",
       "      <td>70</td>\n",
       "      <td>78</td>\n",
       "      <td>61</td>\n",
       "      <td>63</td>\n",
       "      <td>67</td>\n",
       "      <td>65</td>\n",
       "      <td>59</td>\n",
       "      <td>...</td>\n",
       "      <td>61</td>\n",
       "      <td>61</td>\n",
       "      <td>66</td>\n",
       "      <td>65</td>\n",
       "      <td>72</td>\n",
       "      <td>73</td>\n",
       "      <td>68</td>\n",
       "      <td>68</td>\n",
       "      <td>59</td>\n",
       "      <td>63</td>\n",
       "    </tr>\n",
       "    <tr>\n",
       "      <th>4</th>\n",
       "      <td>1</td>\n",
       "      <td>70</td>\n",
       "      <td>66</td>\n",
       "      <td>61</td>\n",
       "      <td>66</td>\n",
       "      <td>61</td>\n",
       "      <td>58</td>\n",
       "      <td>69</td>\n",
       "      <td>69</td>\n",
       "      <td>72</td>\n",
       "      <td>...</td>\n",
       "      <td>67</td>\n",
       "      <td>69</td>\n",
       "      <td>70</td>\n",
       "      <td>66</td>\n",
       "      <td>70</td>\n",
       "      <td>64</td>\n",
       "      <td>60</td>\n",
       "      <td>55</td>\n",
       "      <td>49</td>\n",
       "      <td>41</td>\n",
       "    </tr>\n",
       "  </tbody>\n",
       "</table>\n",
       "<p>5 rows × 45 columns</p>\n",
       "</div>"
      ],
      "text/plain": [
       "   target  F1R  F1S  F2R  F2S  F3R  F3S  F4R  F4S  F5R  ...   F18R  F18S  \\\n",
       "0       1   59   52   70   67   73   66   72   61   58  ...     66    56   \n",
       "1       1   72   62   69   67   78   82   74   65   69  ...     65    71   \n",
       "2       1   71   62   70   64   67   64   79   65   70  ...     73    70   \n",
       "3       1   69   71   70   78   61   63   67   65   59  ...     61    61   \n",
       "4       1   70   66   61   66   61   58   69   69   72  ...     67    69   \n",
       "\n",
       "   F19R  F19S  F20R  F20S  F21R  F21S  F22R  F22S  \n",
       "0    62    56    72    62    74    74    64    67  \n",
       "1    63    60    69    73    67    71    56    58  \n",
       "2    66    65    64    55    61    41    51    46  \n",
       "3    66    65    72    73    68    68    59    63  \n",
       "4    70    66    70    64    60    55    49    41  \n",
       "\n",
       "[5 rows x 45 columns]"
      ]
     },
     "execution_count": 4,
     "metadata": {},
     "output_type": "execute_result"
    }
   ],
   "source": [
    "#check the head of the data\n",
    "spectf_d.head()"
   ]
  },
  {
   "cell_type": "code",
   "execution_count": 5,
   "metadata": {},
   "outputs": [
    {
     "data": {
      "text/plain": [
       "Text(0.5,1,'Correlation between different features')"
      ]
     },
     "execution_count": 5,
     "metadata": {},
     "output_type": "execute_result"
    },
    {
     "data": {
      "image/png": "[encoded data removed]",
      "text/plain": [
       "<Figure size 720x720 with 2 Axes>"
      ]
     },
     "metadata": {},
     "output_type": "display_data"
    }
   ],
   "source": [
    "#check the correlation between the variables\n",
    "correlation = spectf_d.corr()\n",
    "plt.figure(figsize=(10, 10))\n",
    "sns.heatmap(correlation, vmax=1, square=True,cmap='viridis')\n",
    "plt.title('Correlation between different features')"
   ]
  },
  {
   "cell_type": "markdown",
   "metadata": {},
   "source": [
    "# Separate out the Target and Input variables from training and testing data"
   ]
  },
  {
   "cell_type": "code",
   "execution_count": 6,
   "metadata": {},
   "outputs": [],
   "source": [
    "target = spectf_d['target']\n",
    "spectf_d.drop('target',axis=1,inplace=True)"
   ]
  },
  {
   "cell_type": "code",
   "execution_count": 7,
   "metadata": {},
   "outputs": [
    {
     "data": {
      "text/plain": [
       "(80, 44)"
      ]
     },
     "execution_count": 7,
     "metadata": {},
     "output_type": "execute_result"
    }
   ],
   "source": [
    "spectf_d.shape"
   ]
  },
  {
   "cell_type": "code",
   "execution_count": 8,
   "metadata": {},
   "outputs": [],
   "source": [
    "url_t = 'https://archive.ics.uci.edu/ml/machine-learning-databases/spect/SPECTF.test'\n",
    "col_names = ['target', 'F1R', 'F1S', 'F2R', 'F2S', 'F3R', 'F3S', 'F4R', 'F4S', 'F5R','F5S','F6R','F6S','F7R','F7S','F8R','F8S','F9R','F9S','F10R',\n",
    "    'F10S',  'F11R','F11S','F12R','F12S','F13R','F13S','F14R','F14S','F15R','F15S','F16R','F16S','F17R','F17S','F18R','F18S','F19R','F19S',   'F20R',\n",
    "    'F20S','F21R','F21S','F22R','F22S']\n",
    "spectf_t= pd.read_table(url_t,sep=',',names=col_names)"
   ]
  },
  {
   "cell_type": "code",
   "execution_count": 9,
   "metadata": {},
   "outputs": [],
   "source": [
    "target_t = spectf_t['target']\n",
    "spectf_t.drop('target',axis=1,inplace=True)"
   ]
  },
  {
   "cell_type": "code",
   "execution_count": 10,
   "metadata": {},
   "outputs": [
    {
     "data": {
      "text/plain": [
       "(187, 44)"
      ]
     },
     "execution_count": 10,
     "metadata": {},
     "output_type": "execute_result"
    }
   ],
   "source": [
    "spectf_t.shape"
   ]
  },
  {
   "cell_type": "markdown",
   "metadata": {},
   "source": [
    "# Normalize all the input columns"
   ]
  },
  {
   "cell_type": "code",
   "execution_count": 11,
   "metadata": {},
   "outputs": [],
   "source": [
    "from sklearn.preprocessing import StandardScaler\n",
    "scaler=StandardScaler()\n",
    "spectf = scaler.fit_transform(spectf_d)\n",
    "spectt = scaler.fit_transform(spectf_t)"
   ]
  },
  {
   "cell_type": "code",
   "execution_count": 12,
   "metadata": {},
   "outputs": [
    {
     "data": {
      "text/plain": [
       "array([[-1.73592319, -2.27310275,  0.07672715, ...,  0.78938997,\n",
       "         0.74915189,  0.99016585],\n",
       "       [ 0.60262619, -0.81130034, -0.09377763, ...,  0.52330347,\n",
       "         0.00233381,  0.24287087],\n",
       "       [ 0.42273777, -0.81130034,  0.07672715, ..., -2.13756161,\n",
       "        -0.46442749, -0.75352244],\n",
       "       ...,\n",
       "       [-0.29681588, -0.51893986,  0.58824149, ...,  1.32156299,\n",
       "         1.02920866,  1.07319862],\n",
       "       [-0.11692747, -0.37275961,  0.41773671, ..., -0.80712907,\n",
       "         0.18903833, -0.91958799],\n",
       "       [-0.4767043 , -1.98074227, -0.09377763, ...,  0.25721696,\n",
       "         0.28239059,  0.32590364]])"
      ]
     },
     "execution_count": 12,
     "metadata": {},
     "output_type": "execute_result"
    }
   ],
   "source": [
    "spectf"
   ]
  },
  {
   "cell_type": "code",
   "execution_count": 13,
   "metadata": {},
   "outputs": [
    {
     "data": {
      "text/plain": [
       "array([[ 0.20940529,  0.41596002,  0.68734602, ...,  0.96547463,\n",
       "         0.59118869,  1.28968911],\n",
       "       [ 1.10446332,  1.00822796,  0.39455854, ..., -0.02516326,\n",
       "         0.44098178,  0.22637971],\n",
       "       [ 1.99952135,  0.02111472, -0.33741018, ...,  0.34632595,\n",
       "        -0.61046658, -0.43818867],\n",
       "       ...,\n",
       "       [ 1.10446332,  0.90951664,  0.54095228, ...,  1.0273895 ,\n",
       "         1.19201632,  1.48905963],\n",
       "       [-0.68565274, -0.17630793,  0.54095228, ...,  1.08930437,\n",
       "         1.41732668,  1.42260279],\n",
       "       [-0.12624147,  0.21853737, -0.04462269, ...,  0.34632595,\n",
       "         0.44098178,  0.35929338]])"
      ]
     },
     "execution_count": 13,
     "metadata": {},
     "output_type": "execute_result"
    }
   ],
   "source": [
    "spectt"
   ]
  },
  {
   "cell_type": "markdown",
   "metadata": {},
   "source": [
    "# Logistic Regression"
   ]
  },
  {
   "cell_type": "code",
   "execution_count": 14,
   "metadata": {},
   "outputs": [
    {
     "data": {
      "text/plain": [
       "LogisticRegression(C=1e+42, class_weight=None, dual=False, fit_intercept=True,\n",
       "          intercept_scaling=1, max_iter=100, multi_class='ovr', n_jobs=1,\n",
       "          penalty='l2', random_state=None, solver='liblinear', tol=0.0001,\n",
       "          verbose=0, warm_start=False)"
      ]
     },
     "execution_count": 14,
     "metadata": {},
     "output_type": "execute_result"
    }
   ],
   "source": [
    "# train a logistic regression model on the training set\n",
    "from sklearn.linear_model import LogisticRegression\n",
    "\n",
    "# instantiate model\n",
    "logreg = LogisticRegression(C=1e42)\n",
    "\n",
    "# fit model\n",
    "logreg.fit(spectf, target)"
   ]
  },
  {
   "cell_type": "code",
   "execution_count": 15,
   "metadata": {},
   "outputs": [],
   "source": [
    "# make class predictions for the testing set\n",
    "y_pred_class = logreg.predict(spectt)"
   ]
  },
  {
   "cell_type": "code",
   "execution_count": 16,
   "metadata": {},
   "outputs": [
    {
     "name": "stdout",
     "output_type": "stream",
     "text": [
      "0.5347593582887701\n",
      "(0.8994902156666863, 0.5347593582887701, 0.6328658012844995, None)\n",
      "[[12  3]\n",
      " [84 88]]\n"
     ]
    }
   ],
   "source": [
    "# calculate accuracy and other metrics\n",
    "from sklearn import metrics\n",
    "print(metrics.accuracy_score(target_t, y_pred_class))\n",
    "print (metrics.precision_recall_fscore_support(target_t, y_pred_class, average='weighted'))\n",
    "print(metrics.confusion_matrix(target_t,y_pred_class))"
   ]
  },
  {
   "cell_type": "markdown",
   "metadata": {},
   "source": [
    "# Applying PCA to logistic regression model"
   ]
  },
  {
   "cell_type": "code",
   "execution_count": 17,
   "metadata": {},
   "outputs": [
    {
     "data": {
      "text/plain": [
       "Text(15,0.9,'15')"
      ]
     },
     "execution_count": 17,
     "metadata": {},
     "output_type": "execute_result"
    },
    {
     "data": {
      "image/png": "[encoded data removed]",
      "text/plain": [
       "<Figure size 432x288 with 1 Axes>"
      ]
     },
     "metadata": {},
     "output_type": "display_data"
    }
   ],
   "source": [
    "from sklearn.decomposition import PCA\n",
    "pca = PCA().fit(spectf)\n",
    "plt.plot(np.cumsum(pca.explained_variance_ratio_))\n",
    "plt.xlabel('Number of components')\n",
    "plt.ylabel('Cumulative explained variance')\n",
    "plt.annotate('15',xy=(15, .90))"
   ]
  },
  {
   "cell_type": "markdown",
   "metadata": {},
   "source": [
    "**Elbow** method helps us to select the number of priciple componets required"
   ]
  },
  {
   "cell_type": "code",
   "execution_count": 18,
   "metadata": {},
   "outputs": [],
   "source": [
    "#consider first 15 components as they are explaining the 90% of variation in the data\n",
    "x_pca = PCA(n_components=15)\n",
    "spectf_pca = x_pca.fit_transform(spectf)\n",
    "spectf_test = x_pca.fit_transform(spectt)"
   ]
  },
  {
   "cell_type": "code",
   "execution_count": 19,
   "metadata": {},
   "outputs": [
    {
     "data": {
      "text/plain": [
       "Text(0.5,1,'Correlation between different features')"
      ]
     },
     "execution_count": 19,
     "metadata": {},
     "output_type": "execute_result"
    },
    {
     "data": {
      "image/png": "[encoded data removed]",
      "text/plain": [
       "<Figure size 432x288 with 2 Axes>"
      ]
     },
     "metadata": {},
     "output_type": "display_data"
    }
   ],
   "source": [
    "#correlation between the variables after transforming the data with PCA is 0\n",
    "correlation = pd.DataFrame(spectf_pca).corr()\n",
    "sns.heatmap(correlation, vmax=1, square=True,cmap='viridis')\n",
    "plt.title('Correlation between different features')"
   ]
  },
  {
   "cell_type": "markdown",
   "metadata": {},
   "source": [
    "**Every principal component** will ALWAYS be orthogonal(perpendicular) to every other principal component"
   ]
  },
  {
   "cell_type": "code",
   "execution_count": 20,
   "metadata": {},
   "outputs": [
    {
     "data": {
      "text/plain": [
       "LogisticRegression(C=1e+42, class_weight=None, dual=False, fit_intercept=True,\n",
       "          intercept_scaling=1, max_iter=100, multi_class='ovr', n_jobs=1,\n",
       "          penalty='l2', random_state=None, solver='liblinear', tol=0.0001,\n",
       "          verbose=0, warm_start=False)"
      ]
     },
     "execution_count": 20,
     "metadata": {},
     "output_type": "execute_result"
    }
   ],
   "source": [
    "# train a logistic regression model on the training set\n",
    "from sklearn.linear_model import LogisticRegression\n",
    "\n",
    "# instantiate model\n",
    "pcalg = LogisticRegression(C=1e42)\n",
    "\n",
    "# fit model\n",
    "pcalg.fit(spectf_pca, target)"
   ]
  },
  {
   "cell_type": "code",
   "execution_count": 21,
   "metadata": {},
   "outputs": [],
   "source": [
    "# make class predictions for the testing set\n",
    "y_pred_class_pca = pcalg.predict(spectf_test)"
   ]
  },
  {
   "cell_type": "code",
   "execution_count": 22,
   "metadata": {
    "scrolled": true
   },
   "outputs": [
    {
     "name": "stdout",
     "output_type": "stream",
     "text": [
      "0.5775401069518716\n",
      "(0.9124078872411193, 0.5775401069518716, 0.6695255324164137, None)\n",
      "[[13  2]\n",
      " [77 95]]\n"
     ]
    }
   ],
   "source": [
    "# calculate accuracy\n",
    "print(metrics.accuracy_score(target_t, y_pred_class_pca))\n",
    "print (metrics.precision_recall_fscore_support(target_t, y_pred_class_pca, average='weighted'))\n",
    "print(metrics.confusion_matrix(target_t,y_pred_class_pca))"
   ]
  },
  {
   "cell_type": "markdown",
   "metadata": {},
   "source": [
    "# Random Forest"
   ]
  },
  {
   "cell_type": "code",
   "execution_count": 23,
   "metadata": {},
   "outputs": [],
   "source": [
    "from sklearn.ensemble import RandomForestClassifier\n",
    "rf_clf=RandomForestClassifier(max_depth = 5, min_samples_split=2, n_estimators = 10, random_state = 103)\n",
    "rf_model=rf_clf.fit(spectf,target)\n",
    "rf_prediction = rf_model.predict(spectt)"
   ]
  },
  {
   "cell_type": "code",
   "execution_count": 24,
   "metadata": {},
   "outputs": [
    {
     "name": "stdout",
     "output_type": "stream",
     "text": [
      "0.4919786096256685\n",
      "(0.9185413329121447, 0.4919786096256685, 0.5899199601749517, None)\n",
      "[[14  1]\n",
      " [94 78]]\n"
     ]
    }
   ],
   "source": [
    "#calculate accuracy and other metrics\n",
    "print(metrics.accuracy_score(target_t,rf_prediction))\n",
    "print(metrics.precision_recall_fscore_support(target_t,rf_prediction, average='weighted'))\n",
    "print(metrics.confusion_matrix(target_t,rf_prediction))"
   ]
  },
  {
   "cell_type": "markdown",
   "metadata": {},
   "source": [
    "# Applying PCA to Random Forest model"
   ]
  },
  {
   "cell_type": "code",
   "execution_count": 25,
   "metadata": {},
   "outputs": [
    {
     "data": {
      "text/plain": [
       "0.975"
      ]
     },
     "execution_count": 25,
     "metadata": {},
     "output_type": "execute_result"
    }
   ],
   "source": [
    "rfClassifier=RandomForestClassifier(max_depth = 5, min_samples_split=2, n_estimators = 10, random_state = 103)\n",
    "rfClassifier.fit(spectf_pca,target)\n",
    "rfClassifier.score(spectf_pca,target)"
   ]
  },
  {
   "cell_type": "code",
   "execution_count": 26,
   "metadata": {},
   "outputs": [
    {
     "name": "stdout",
     "output_type": "stream",
     "text": [
      "0.5133689839572193\n",
      "(0.9083674111355772, 0.5133689839572193, 0.6119283935717902, None)\n",
      "[[13  2]\n",
      " [89 83]]\n"
     ]
    }
   ],
   "source": [
    "# Now test the model\n",
    "# Consider first 15 components as they are explaining the 90% of variation in the data\n",
    "test_pred = rfClassifier.predict(spectf_test)\n",
    "#calculate accuracy and other metrics\n",
    "print(metrics.accuracy_score(target_t,test_pred))\n",
    "print(metrics.precision_recall_fscore_support(target_t,test_pred, average='weighted'))\n",
    "print(metrics.confusion_matrix(target_t,test_pred))\n"
   ]
  },
  {
   "cell_type": "markdown",
   "metadata": {},
   "source": [
    "**Conclusion** \n",
    "\n",
    "Any algorithm with PCA outperforms with out PCA."
   ]
  },
  {
   "cell_type": "code",
   "execution_count": null,
   "metadata": {},
   "outputs": [],
   "source": []
  }
 ],
 "metadata": {
  "kernelspec": {
   "display_name": "Python 3",
   "language": "python",
   "name": "python3"
  },
  "language_info": {
   "codemirror_mode": {
    "name": "ipython",
    "version": 3
   },
   "file_extension": ".py",
   "mimetype": "text/x-python",
   "name": "python",
   "nbconvert_exporter": "python",
   "pygments_lexer": "ipython3",
   "version": "3.6.5"
  }
 },
 "nbformat": 4,
 "nbformat_minor": 1
}
